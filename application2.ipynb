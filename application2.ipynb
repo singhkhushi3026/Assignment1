{
 "cells": [
  {
   "cell_type": "code",
   "execution_count": 1,
   "id": "5c8c8fb7",
   "metadata": {},
   "outputs": [],
   "source": [
    "import pandas as pd\n",
    "import matplotlib.pyplot as plt"
   ]
  },
  {
   "cell_type": "code",
   "execution_count": 2,
   "id": "5f64ed1e",
   "metadata": {},
   "outputs": [
    {
     "data": {
      "text/html": [
       "<div>\n",
       "<style scoped>\n",
       "    .dataframe tbody tr th:only-of-type {\n",
       "        vertical-align: middle;\n",
       "    }\n",
       "\n",
       "    .dataframe tbody tr th {\n",
       "        vertical-align: top;\n",
       "    }\n",
       "\n",
       "    .dataframe thead th {\n",
       "        text-align: right;\n",
       "    }\n",
       "</style>\n",
       "<table border=\"1\" class=\"dataframe\">\n",
       "  <thead>\n",
       "    <tr style=\"text-align: right;\">\n",
       "      <th></th>\n",
       "      <th>Unnamed: 0</th>\n",
       "      <th>name</th>\n",
       "      <th>company</th>\n",
       "      <th>year</th>\n",
       "      <th>Price</th>\n",
       "      <th>kms_driven</th>\n",
       "      <th>fuel_type</th>\n",
       "    </tr>\n",
       "  </thead>\n",
       "  <tbody>\n",
       "    <tr>\n",
       "      <th>0</th>\n",
       "      <td>0</td>\n",
       "      <td>Hyundai Santro Xing</td>\n",
       "      <td>Hyundai</td>\n",
       "      <td>2007</td>\n",
       "      <td>80000</td>\n",
       "      <td>45000</td>\n",
       "      <td>Petrol</td>\n",
       "    </tr>\n",
       "    <tr>\n",
       "      <th>1</th>\n",
       "      <td>1</td>\n",
       "      <td>Mahindra Jeep CL550</td>\n",
       "      <td>Mahindra</td>\n",
       "      <td>2006</td>\n",
       "      <td>425000</td>\n",
       "      <td>40</td>\n",
       "      <td>Diesel</td>\n",
       "    </tr>\n",
       "    <tr>\n",
       "      <th>2</th>\n",
       "      <td>2</td>\n",
       "      <td>Hyundai Grand i10</td>\n",
       "      <td>Hyundai</td>\n",
       "      <td>2014</td>\n",
       "      <td>325000</td>\n",
       "      <td>28000</td>\n",
       "      <td>Petrol</td>\n",
       "    </tr>\n",
       "    <tr>\n",
       "      <th>3</th>\n",
       "      <td>3</td>\n",
       "      <td>Ford EcoSport Titanium</td>\n",
       "      <td>Ford</td>\n",
       "      <td>2014</td>\n",
       "      <td>575000</td>\n",
       "      <td>36000</td>\n",
       "      <td>Diesel</td>\n",
       "    </tr>\n",
       "    <tr>\n",
       "      <th>4</th>\n",
       "      <td>4</td>\n",
       "      <td>Ford Figo</td>\n",
       "      <td>Ford</td>\n",
       "      <td>2012</td>\n",
       "      <td>175000</td>\n",
       "      <td>41000</td>\n",
       "      <td>Diesel</td>\n",
       "    </tr>\n",
       "  </tbody>\n",
       "</table>\n",
       "</div>"
      ],
      "text/plain": [
       "   Unnamed: 0                    name   company  year   Price  kms_driven  \\\n",
       "0           0     Hyundai Santro Xing   Hyundai  2007   80000       45000   \n",
       "1           1     Mahindra Jeep CL550  Mahindra  2006  425000          40   \n",
       "2           2       Hyundai Grand i10   Hyundai  2014  325000       28000   \n",
       "3           3  Ford EcoSport Titanium      Ford  2014  575000       36000   \n",
       "4           4               Ford Figo      Ford  2012  175000       41000   \n",
       "\n",
       "  fuel_type  \n",
       "0    Petrol  \n",
       "1    Diesel  \n",
       "2    Petrol  \n",
       "3    Diesel  \n",
       "4    Diesel  "
      ]
     },
     "execution_count": 2,
     "metadata": {},
     "output_type": "execute_result"
    }
   ],
   "source": [
    "df=pd.read_csv(\"car.csv\")\n",
    "df.head()"
   ]
  },
  {
   "cell_type": "code",
   "execution_count": 3,
   "id": "610e737e",
   "metadata": {},
   "outputs": [
    {
     "name": "stderr",
     "output_type": "stream",
     "text": [
      "C:\\Users\\DELL\\AppData\\Local\\Temp\\ipykernel_17796\\1331863880.py:1: FutureWarning: Dropping of nuisance columns in DataFrame reductions (with 'numeric_only=None') is deprecated; in a future version this will raise TypeError.  Select only valid columns before calling the reduction.\n",
      "  mean = df.mean()\n",
      "C:\\Users\\DELL\\AppData\\Local\\Temp\\ipykernel_17796\\1331863880.py:2: FutureWarning: Dropping of nuisance columns in DataFrame reductions (with 'numeric_only=None') is deprecated; in a future version this will raise TypeError.  Select only valid columns before calling the reduction.\n",
      "  median = df.median()\n",
      "C:\\Users\\DELL\\AppData\\Local\\Temp\\ipykernel_17796\\1331863880.py:4: FutureWarning: Dropping of nuisance columns in DataFrame reductions (with 'numeric_only=None') is deprecated; in a future version this will raise TypeError.  Select only valid columns before calling the reduction.\n",
      "  std = df.std()\n"
     ]
    }
   ],
   "source": [
    "    mean = df.mean()\n",
    "    median = df.median()\n",
    "    mode = df.mode()\n",
    "    std = df.std()"
   ]
  },
  {
   "cell_type": "code",
   "execution_count": 6,
   "id": "28c23ebb",
   "metadata": {},
   "outputs": [],
   "source": [
    "correlations = df.corr()\n"
   ]
  },
  {
   "cell_type": "code",
   "execution_count": 9,
   "id": "1ae31f83",
   "metadata": {},
   "outputs": [
    {
     "data": {
      "image/png": "[encoded data removed]",
      "text/plain": [
       "<Figure size 432x288 with 4 Axes>"
      ]
     },
     "metadata": {
      "needs_background": "light"
     },
     "output_type": "display_data"
    }
   ],
   "source": [
    "df.hist()\n",
    "plt.show()\n"
   ]
  },
  {
   "cell_type": "code",
   "execution_count": 10,
   "id": "e90eb2f9",
   "metadata": {},
   "outputs": [
    {
     "data": {
      "image/png": "[encoded data removed]",
      "text/plain": [
       "<Figure size 432x288 with 1 Axes>"
      ]
     },
     "metadata": {
      "needs_background": "light"
     },
     "output_type": "display_data"
    }
   ],
   "source": [
    "df.plot.scatter(x='Price', y='kms_driven')\n",
    "plt.show()"
   ]
  },
  {
   "cell_type": "code",
   "execution_count": 11,
   "id": "7cd8f361",
   "metadata": {},
   "outputs": [
    {
     "data": {
      "image/png": "[encoded data removed]",
      "text/plain": [
       "<Figure size 432x288 with 1 Axes>"
      ]
     },
     "metadata": {
      "needs_background": "light"
     },
     "output_type": "display_data"
    }
   ],
   "source": [
    "df.plot()\n",
    "plt.show()\n"
   ]
  },
  {
   "cell_type": "code",
   "execution_count": 23,
   "id": "41c696c7",
   "metadata": {},
   "outputs": [
    {
     "name": "stdout",
     "output_type": "stream",
     "text": [
      "The mean of the data is:\n",
      " Unnamed: 0       407.500000\n",
      "year            2012.444853\n",
      "Price         411717.615196\n",
      "kms_driven     46275.531863\n",
      "dtype: float64\n",
      "\n",
      "The median of the data is:\n",
      " Unnamed: 0       407.5\n",
      "year            2013.0\n",
      "Price         299999.0\n",
      "kms_driven     41000.0\n",
      "dtype: float64\n",
      "\n",
      "The mode of the data is:\n",
      "      Unnamed: 0                 name company    year     Price  kms_driven  \\\n",
      "0             0  Maruti Suzuki Swift  Maruti  2015.0  250000.0     45000.0   \n",
      "1             1                  NaN     NaN     NaN       NaN         NaN   \n",
      "2             2                  NaN     NaN     NaN       NaN         NaN   \n",
      "3             3                  NaN     NaN     NaN       NaN         NaN   \n",
      "4             4                  NaN     NaN     NaN       NaN         NaN   \n",
      "..          ...                  ...     ...     ...       ...         ...   \n",
      "811         811                  NaN     NaN     NaN       NaN         NaN   \n",
      "812         812                  NaN     NaN     NaN       NaN         NaN   \n",
      "813         813                  NaN     NaN     NaN       NaN         NaN   \n",
      "814         814                  NaN     NaN     NaN       NaN         NaN   \n",
      "815         815                  NaN     NaN     NaN       NaN         NaN   \n",
      "\n",
      "    fuel_type  \n",
      "0      Petrol  \n",
      "1         NaN  \n",
      "2         NaN  \n",
      "3         NaN  \n",
      "4         NaN  \n",
      "..        ...  \n",
      "811       NaN  \n",
      "812       NaN  \n",
      "813       NaN  \n",
      "814       NaN  \n",
      "815       NaN  \n",
      "\n",
      "[816 rows x 7 columns]\n",
      "\n",
      "The standard deviation of the data is:\n",
      " Unnamed: 0       235.703203\n",
      "year               4.002992\n",
      "Price         475184.422264\n",
      "kms_driven     34297.428044\n",
      "dtype: float64\n",
      "\n",
      "The correlations between the columns are:\n",
      "             Unnamed: 0      year     Price  kms_driven\n",
      "Unnamed: 0    1.000000 -0.134144 -0.004708    0.124274\n",
      "year         -0.134144  1.000000  0.287193   -0.233695\n",
      "Price        -0.004708  0.287193  1.000000   -0.120854\n",
      "kms_driven    0.124274 -0.233695 -0.120854    1.000000\n"
     ]
    },
    {
     "name": "stderr",
     "output_type": "stream",
     "text": [
      "C:\\Users\\DELL\\AppData\\Local\\Temp\\ipykernel_17796\\3018663252.py:1: FutureWarning: Dropping of nuisance columns in DataFrame reductions (with 'numeric_only=None') is deprecated; in a future version this will raise TypeError.  Select only valid columns before calling the reduction.\n",
      "  mean = df.mean()\n",
      "C:\\Users\\DELL\\AppData\\Local\\Temp\\ipykernel_17796\\3018663252.py:2: FutureWarning: Dropping of nuisance columns in DataFrame reductions (with 'numeric_only=None') is deprecated; in a future version this will raise TypeError.  Select only valid columns before calling the reduction.\n",
      "  median = df.median()\n",
      "C:\\Users\\DELL\\AppData\\Local\\Temp\\ipykernel_17796\\3018663252.py:4: FutureWarning: Dropping of nuisance columns in DataFrame reductions (with 'numeric_only=None') is deprecated; in a future version this will raise TypeError.  Select only valid columns before calling the reduction.\n",
      "  std = df.std()\n"
     ]
    }
   ],
   "source": [
    "    mean = df.mean()\n",
    "    median = df.median()\n",
    "    mode = df.mode()\n",
    "    std = df.std()\n",
    "    print(\"The mean of the data is:\\n\", mean)\n",
    "    print(\"\\nThe median of the data is:\\n\", median)\n",
    "    print(\"\\nThe mode of the data is:\\n\", mode)\n",
    "    print(\"\\nThe standard deviation of the data is:\\n\", std)\n",
    "    print(\"\\nThe correlations between the columns are:\\n\", correlations)\n"
   ]
  },
  {
   "cell_type": "code",
   "execution_count": null,
   "id": "b9c55ac6",
   "metadata": {},
   "outputs": [],
   "source": []
  },
  {
   "cell_type": "code",
   "execution_count": null,
   "id": "1f6d187d",
   "metadata": {},
   "outputs": [],
   "source": []
  },
  {
   "cell_type": "code",
   "execution_count": null,
   "id": "f56365e4",
   "metadata": {},
   "outputs": [],
   "source": []
  },
  {
   "cell_type": "code",
   "execution_count": null,
   "id": "24c934b7",
   "metadata": {},
   "outputs": [],
   "source": []
  }
 ],
 "metadata": {
  "kernelspec": {
   "display_name": "Python 3 (ipykernel)",
   "language": "python",
   "name": "python3"
  },
  "language_info": {
   "codemirror_mode": {
    "name": "ipython",
    "version": 3
   },
   "file_extension": ".py",
   "mimetype": "text/x-python",
   "name": "python",
   "nbconvert_exporter": "python",
   "pygments_lexer": "ipython3",
   "version": "3.9.12"
  }
 },
 "nbformat": 4,
 "nbformat_minor": 5
}
